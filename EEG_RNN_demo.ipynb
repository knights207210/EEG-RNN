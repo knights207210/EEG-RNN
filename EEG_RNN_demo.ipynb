{
 "cells": [
  {
   "cell_type": "markdown",
   "metadata": {},
   "source": [
    "## Labeling EEG Data\n",
    "\n",
    "The first step in the process is to label the EEG data for facetouches using the video recording. This can be done quite precisely using OpenCV. First, the files for both the video recording and EEG recording must be loaded"
   ]
  },
  {
   "cell_type": "code",
   "execution_count": 1,
   "metadata": {},
   "outputs": [],
   "source": [
    "import cv2\n",
    "import numpy as np\n",
    "from datetime import *\n",
    "import time\n",
    "import pandas as pd\n",
    "import matplotlib.pyplot as plt"
   ]
  },
  {
   "cell_type": "markdown",
   "metadata": {},
   "source": [
    "In order create labels as accurtely as possible, we need to calculate the UNIX timestamp corresponding to each video frame. To do this, we convert the Zoom timestamp to UNIX time, and calculate the time delta for each frame using the video's framerate. From here, we can calculate the start time and end time of the video"
   ]
  },
  {
   "cell_type": "code",
   "execution_count": 2,
   "metadata": {},
   "outputs": [],
   "source": [
    "def load_video(video_path):\n",
    "\n",
    "    # Load video file\n",
    "    video = cv2.VideoCapture(video_path)\n",
    "\n",
    "    # Get video timestamp from folder name\n",
    "    video_time = video_path.split('/')[-2].split(' ')[:2]\n",
    "    video_time = [int(x) for x in video_time[0].split('-')] + [int(x) for x in video_time[1].split('.')]\n",
    "    video_time = datetime(video_time[0], video_time[1], video_time[2], video_time[3], video_time[4], video_time[5])\n",
    "\n",
    "    # Convert to UNIX timestamp\n",
    "    video_start_time = video_time.timestamp()\n",
    "\n",
    "    # Get framerate of video, and calculate end time\n",
    "    fps = video.get(cv2.CAP_PROP_FPS)\n",
    "    video_time_delta = 1. / fps\n",
    "    total_frames = int(video.get(cv2.CAP_PROP_FRAME_COUNT))\n",
    "    video_end_time = video_start_time + total_frames*video_time_delta\n",
    "\n",
    "    print(\"Video Start Time:\",video_start_time)\n",
    "    print(\"Video End Time:  \",video_end_time)\n",
    "    print(\"Video FPS:\\t \",fps)\n",
    "    print(\"Total Frames:\\t \",total_frames)\n",
    "    \n",
    "    return video, video_start_time, video_end_time, total_frames, video_time_delta"
   ]
  },
  {
   "cell_type": "markdown",
   "metadata": {},
   "source": [
    "Next, we get similar information for the EEG data. This is much simpler, as each frame of EEG data is labeled with a UNIX timestamp to begin with."
   ]
  },
  {
   "cell_type": "code",
   "execution_count": 3,
   "metadata": {},
   "outputs": [],
   "source": [
    "def load_eeg(eeg_path):\n",
    "\n",
    "    # Load EEG recording file\n",
    "    eeg_df = pd.read_csv(eeg_path)\n",
    "\n",
    "    # Get UNIX time start time for EEG data\n",
    "    eeg_start_time = eeg_df['timestamps'].iloc[0]\n",
    "    eeg_end_time = eeg_df['timestamps'].iloc[-1]\n",
    "    total_frames = eeg_df.shape[0]\n",
    "\n",
    "    print(\"EEG Start Time:\\t\",eeg_start_time)\n",
    "    print(\"EEG End Time:\\t\",eeg_end_time)\n",
    "    print(\"Total Frames:\\t\",total_frames)\n",
    "    \n",
    "    return eeg_df, eeg_start_time, eeg_end_time, total_frames"
   ]
  },
  {
   "cell_type": "code",
   "execution_count": 24,
   "metadata": {},
   "outputs": [
    {
     "name": "stdout",
     "output_type": "stream",
     "text": [
      "Video Start Time: 1587070376.0\n",
      "Video End Time:   1587070681.64\n",
      "Video FPS:\t  25.0\n",
      "Total Frames:\t  7641\n",
      "\n",
      "EEG Start Time:\t 1587070390.6339998\n",
      "EEG End Time:\t 1587070688.9420002\n",
      "Total Frames:\t 76368\n"
     ]
    }
   ],
   "source": [
    "# Declare filepaths for video and eeg recording files\n",
    "video_path = \"./EEG data/Videos/2020-04-16 14.52.56 Tom Yeh_s Personal Meeting Room 5191522377/zoom_0.mp4\"\n",
    "\n",
    "jack_eeg_path = \"\"\n",
    "shawn_eeg_path = \"EEG data/EEG_shawn_5_mins_reading_news.csv\"\n",
    "xu_eeg_path = \"EEG data/read_news_Xu.csv\"\n",
    "\n",
    "# CHOOSE PERSON TO LABEL\n",
    "eeg_path = xu_eeg_path\n",
    "\n",
    "video, video_start_time, video_end_time, video_frames, video_time_delta = load_video(video_path)\n",
    "print()\n",
    "eeg_df, eeg_start_time, eeg_end_time, eeg_frames = load_eeg(eeg_path)"
   ]
  },
  {
   "cell_type": "markdown",
   "metadata": {},
   "source": [
    "Now that we have the necessary timestamp data for both the Video and EEG frames, we can label each EEG frame corresponding to whether or not the subject is touching their face in the corresponding video frame. The below script utilized OpenCV to achieve this. While watching a playback of the video at reduced speed, each time the spacebar is pressed, the script will begin labeling the corresponding EEG frames as a face touch event. Once the spacebar is pressed again, the labeling is stopped. Once the whole video has been played, a dataframe is saved which contains each frame of the EEG recording that occurs within the video's timespan, labeled with a binary value for facetouch events. It also saves the total number of individual face touching events, as well as frame markers for each event."
   ]
  },
  {
   "cell_type": "code",
   "execution_count": 5,
   "metadata": {},
   "outputs": [],
   "source": [
    "current_video_time = video_start_time\n",
    "current_eeg_time = eeg_start_time\n",
    "\n",
    "current_video_frame = 0\n",
    "current_eeg_frame = 0\n",
    "\n",
    "label = False\n",
    "event_count = 0\n",
    "event_frames = []\n",
    "\n",
    "# Initialize dataframe for labeled EEG data\n",
    "eeg_labeled = pd.DataFrame(columns = eeg_df.columns.to_list() + ['facetouch'])\n",
    "\n",
    "# Loop through frames of video recording\n",
    "while video.isOpened():\n",
    "    \n",
    "    # Grab video frame\n",
    "    ret,frame = video.read()\n",
    "\n",
    "    # If the UNIX timestamp of the current video frame is within the EEG recording's timespan\n",
    "    if current_video_time >= eeg_start_time and current_video_time <= eeg_end_time:\n",
    "        \n",
    "        # Grab all EEG frames corresponding to the current video frame, and label\n",
    "        num_eeg_frames = 0\n",
    "        while current_eeg_time < current_video_time:\n",
    "\n",
    "            current_eeg_time = eeg_df['timestamps'].iloc[current_eeg_frame]\n",
    "\n",
    "            row = eeg_df.iloc[current_eeg_frame]\n",
    "            \n",
    "            row['facetouch'] = label\n",
    "            eeg_labeled = eeg_labeled.append(row)\n",
    "\n",
    "            num_eeg_frames += 1\n",
    "            current_eeg_frame += 1\n",
    "        \n",
    "        # Process user input\n",
    "        key = cv2.waitKey(1) & 0xFF\n",
    "        \n",
    "        # 'q' for quit, spacebar to toggle EEG frame labeling\n",
    "        if key == ord('q'):\n",
    "            break\n",
    "        elif key == ord(' '):\n",
    "            label = not label\n",
    "            event_count += label\n",
    "            if label:\n",
    "                event_start = current_eeg_frame\n",
    "            else:\n",
    "                event_frames.append((event_start, current_eeg_frame))\n",
    "\n",
    "        if label:\n",
    "            cv2.putText(frame, 'FACE TOUCH', (50,50), cv2.FONT_HERSHEY_SIMPLEX , 2, (0,0,255), 2, cv2.LINE_AA)\n",
    "\n",
    "        cv2.imshow('window-name',frame)\n",
    "\n",
    "    current_video_time += video_time_delta\n",
    "    current_video_frame += 1\n",
    "    \n",
    "video.release()\n",
    "cv2.destroyAllWindows()\n",
    "\n",
    "# Save dataframe and event markers in hd5f file\n",
    "store = pd.HDFStore(eeg_path[:-4] + '_labeled.hdf5')\n",
    "store.put('eeg_labeled', eeg_labeled)\n",
    "metadata = {'event_count':event_count,'event_frames':event_frames}\n",
    "store.get_storer('eeg_labeled').attrs.metadata = metadata\n",
    "store.close()"
   ]
  },
  {
   "cell_type": "markdown",
   "metadata": {},
   "source": [
    "We can load the resulting dataframe and see how many individual frames of face-touching we have, and view the frames of each event"
   ]
  },
  {
   "cell_type": "code",
   "execution_count": 5,
   "metadata": {},
   "outputs": [
    {
     "name": "stdout",
     "output_type": "stream",
     "text": [
      "Total EEG frames: 64464 Facetouch frames: 3512\n",
      "12 Face-touching events at\n",
      " [[ 2696  2891]\n",
      " [10632 10909]\n",
      " [13592 13899]\n",
      " [20821 20944]\n",
      " [23627 23975]\n",
      " [26525 26996]\n",
      " [27150 27528]\n",
      " [31379 31655]\n",
      " [37891 37912]\n",
      " [38823 39100]\n",
      " [43503 43994]\n",
      " [54183 54531]]\n"
     ]
    }
   ],
   "source": [
    "label_path = \"EEG data/EEG_shawn_5_mins_reading_news_labeled.hdf5\"\n",
    "#label_path = eeg_path[:-4] + '_labeled.hdf5'\n",
    "\n",
    "with pd.HDFStore(label_path) as store:\n",
    "    labeled_data = store['eeg_labeled']\n",
    "    metadata = store.get_storer('eeg_labeled').attrs.metadata\n",
    "\n",
    "print('Total EEG frames: %d Facetouch frames: %d'\n",
    "      %(labeled_data.shape[0], labeled_data[labeled_data['facetouch'] == True].shape[0]))\n",
    "print('%d Face-touching events at\\n'%(metadata['event_count']),np.array(metadata['event_frames']))"
   ]
  },
  {
   "cell_type": "markdown",
   "metadata": {},
   "source": [
    "## Preparing data for training\n",
    "\n",
    "Now, we must prepare the dataset for training with an LSTM Recurrent Neural Network. First, we grab example windows of both events and non-events. The length of the window is a variable we can adjust to see how it affects the training. To start off with, a window length of 256 frames (corresponding to one second of EEG recording) is reasonable. We can select the frames such that the face touching event occurs exactly halfway through the window. We can artificially increase the size of the dataset by choosing 4 random offset values for each face touch event."
   ]
  },
  {
   "cell_type": "code",
   "execution_count": 9,
   "metadata": {},
   "outputs": [
    {
     "name": "stdout",
     "output_type": "stream",
     "text": [
      "Training data shape:  (96, 256, 4)\n"
     ]
    }
   ],
   "source": [
    "# Hyperparameters\n",
    "WINDOW_LENGTH = 256 # Number of EEG frames per sample window\n",
    "NUM_OFFSETS = 4     # Number of different offsts for each training sample for data augmentation\n",
    "\n",
    "offsets = np.random.randint(int(WINDOW_LENGTH/5), WINDOW_LENGTH-int(WINDOW_LENGTH/5), 4)\n",
    "\n",
    "eeg_data = labeled_data.to_numpy()[:,1:5]\n",
    "eeg_labels = labeled_data.to_numpy()[:,6]\n",
    "event_frames = metadata['event_frames']\n",
    "\n",
    "X = np.zeros(((len(event_frames)*2)*len(offsets),WINDOW_LENGTH,eeg_data.shape[1]))\n",
    "y = np.zeros((X.shape[0],1))\n",
    "\n",
    "count=0\n",
    "# Get face touching event windows\n",
    "for i,event in enumerate(event_frames):\n",
    "    for j in range(NUM_OFFSETS):\n",
    "        \n",
    "        # Calculate random offset between 0.2 and 0.8 window length\n",
    "        offet = np.random.randint(int(WINDOW_LENGTH/5), WINDOW_LENGTH-int(WINDOW_LENGTH/5))\n",
    "        start = event[0] - offset\n",
    "        \n",
    "        # Grab WINDOW_LENGTH frame starting at offset\n",
    "        window = eeg_data[start:start+WINDOW_LENGTH]\n",
    "        X[count] = window\n",
    "        y[count] = 1\n",
    "        count += 1\n",
    "\n",
    "# Get non-facetouching event windows\n",
    "eeg_data_rest = eeg_data[eeg_labels == 0]\n",
    "for j in range(len(event_frames)):\n",
    "    start = np.random.randint(0,eeg_data_rest.shape[0]-WINDOW_LENGTH)\n",
    "    window = eeg_data_rest[start:start+WINDOW_LENGTH]\n",
    "    X[count+j] = window\n",
    "    y[count+j] = 0\n",
    "\n",
    "print('Training data shape: ',X.shape)"
   ]
  },
  {
   "cell_type": "markdown",
   "metadata": {},
   "source": [
    "By using 4 random offset values, we end up with a final training dataset of 96 samples. Each sample contains 256 time steps for each of the 4 EEG channels"
   ]
  },
  {
   "cell_type": "markdown",
   "metadata": {},
   "source": [
    "## Training with an LSTM\n",
    "\n",
    "Next, we can load the training dataset into a simple LSTM network using the python Keras framework. Because the training dataset is so small, an LSTM with only 50 hidden nodes is chosen, and one fully connected layer. LSTM networks are good for identifying sequences, so in theory given enough training data, if there is in fact information encoded within EEG data to predict face-touches, an LSTM should be able to extract it if trained and designed properly.\n",
    "\n",
    "LSTM networks differ from regular neural networks in that they include feedback within the hidden layers. This gives them the ability to \"remember\" features of sequences. Each training example is fed through the network sequentially, so each individual time step influences the output differently depending on where it is found in the sequence\n",
    "\n",
    "![title](bptt.png)\n",
    "\n",
    "First, we split the dataset into a training and validation set, with a split of 90/10. This is made very simple using sklearn's split functionality"
   ]
  },
  {
   "cell_type": "code",
   "execution_count": 11,
   "metadata": {},
   "outputs": [],
   "source": [
    "# Perform train/test split with sklearn - code adapted from https://github.com/Cerebro409/EEG-Classification-Using-Recurrent-Neural-Network\n",
    "\n",
    "from sklearn.model_selection import StratifiedShuffleSplit\n",
    "\n",
    "sss = StratifiedShuffleSplit(n_splits=2, test_size=0.1, random_state=0)\n",
    "sss.get_n_splits(X, y)\n",
    "\n",
    "for train_index, test_index in sss.split(X, y):\n",
    "    X_train, X_test = X[train_index], X[test_index]\n",
    "    y_train, y_test = y[train_index], y[test_index]"
   ]
  },
  {
   "cell_type": "markdown",
   "metadata": {},
   "source": [
    "Keras makes it extremely simple to define and train simple neural network models. Here we define a neural network with one LSTM module with 50 hidden layers, and one fully connected layer for the final classification. Then, training the network is simply a matter of calling the model.fit() function."
   ]
  },
  {
   "cell_type": "code",
   "execution_count": 12,
   "metadata": {},
   "outputs": [
    {
     "name": "stdout",
     "output_type": "stream",
     "text": [
      "Epoch 1/15\n",
      "86/86 [==============================] - 3s 38ms/step - loss: 0.5448 - accuracy: 0.7209\n",
      "Epoch 2/15\n",
      "86/86 [==============================] - 3s 32ms/step - loss: 0.3398 - accuracy: 0.8140\n",
      "Epoch 3/15\n",
      "86/86 [==============================] - 3s 32ms/step - loss: 0.2987 - accuracy: 0.8605\n",
      "Epoch 4/15\n",
      "86/86 [==============================] - 3s 33ms/step - loss: 0.3002 - accuracy: 0.8605\n",
      "Epoch 5/15\n",
      "86/86 [==============================] - 3s 33ms/step - loss: 0.2295 - accuracy: 0.9186\n",
      "Epoch 6/15\n",
      "86/86 [==============================] - 3s 33ms/step - loss: 0.2459 - accuracy: 0.9302\n",
      "Epoch 7/15\n",
      "86/86 [==============================] - 3s 33ms/step - loss: 0.2030 - accuracy: 0.9186\n",
      "Epoch 8/15\n",
      "86/86 [==============================] - 3s 32ms/step - loss: 0.2094 - accuracy: 0.9186\n",
      "Epoch 9/15\n",
      "86/86 [==============================] - 3s 32ms/step - loss: 0.2170 - accuracy: 0.8953\n",
      "Epoch 10/15\n",
      "86/86 [==============================] - 3s 33ms/step - loss: 0.1973 - accuracy: 0.9302\n",
      "Epoch 11/15\n",
      "86/86 [==============================] - 3s 32ms/step - loss: 0.1537 - accuracy: 0.9302\n",
      "Epoch 12/15\n",
      "86/86 [==============================] - 3s 33ms/step - loss: 0.1887 - accuracy: 0.9070\n",
      "Epoch 13/15\n",
      "86/86 [==============================] - 3s 33ms/step - loss: 0.1538 - accuracy: 0.9419\n",
      "Epoch 14/15\n",
      "86/86 [==============================] - 3s 34ms/step - loss: 0.1666 - accuracy: 0.9302\n",
      "Epoch 15/15\n",
      "86/86 [==============================] - 3s 33ms/step - loss: 0.1777 - accuracy: 0.9302\n",
      "10/10 [==============================] - 0s 11ms/step\n",
      "Test set loss: 0.241176 accuracy 90.00%\n"
     ]
    }
   ],
   "source": [
    "# Training with simple keras model - code adapted from https://github.com/Cerebro409/EEG-Classification-Using-Recurrent-Neural-Network\n",
    "\n",
    "from keras.models import Sequential\n",
    "from keras.layers import Dense, Dropout\n",
    "from keras.layers import Embedding\n",
    "from keras.layers import LSTM\n",
    "\n",
    "\n",
    "n_features = 4  # EEG channels\n",
    "time_steps = WINDOW_LENGTH\n",
    "\n",
    "model = Sequential()\n",
    "model.add(LSTM(60, return_sequences=False, input_shape=(time_steps, n_features)))\n",
    "model.add(Dropout(0.5))\n",
    "model.add(Dense(1, activation='sigmoid'))\n",
    "\n",
    "model.compile(loss='binary_crossentropy',\n",
    "              optimizer='rmsprop',\n",
    "              metrics=['accuracy'])\n",
    "\n",
    "history = model.fit(X_train, y_train, batch_size=2, epochs=15)\n",
    "score = model.evaluate(X_test, y_test, batch_size=2)\n",
    "\n",
    "print(\"Test set loss: %f accuracy %.2f%%\"%(score[0], score[1]*100))"
   ]
  },
  {
   "cell_type": "markdown",
   "metadata": {},
   "source": [
    "Using pyplot, we can visualize the loss and accuracy of the network during training"
   ]
  },
  {
   "cell_type": "code",
   "execution_count": 13,
   "metadata": {},
   "outputs": [
    {
     "data": {
      "image/png": "[encoded data removed]",
      "text/plain": [
       "<Figure size 1440x360 with 2 Axes>"
      ]
     },
     "metadata": {
      "needs_background": "light"
     },
     "output_type": "display_data"
    }
   ],
   "source": [
    "fig, (ax1,ax2) = plt.subplots(1,2,figsize=(20, 5))\n",
    "\n",
    "ax1.plot(history.history['accuracy'])\n",
    "ax1.set_title('model accuracy')\n",
    "ax1.set_ylabel('accuracy')\n",
    "ax1.set_xlabel('epoch')\n",
    "\n",
    "ax2.plot(history.history['loss'])\n",
    "ax2.set_title('model loss')\n",
    "ax2.set_ylabel('loss')\n",
    "ax2.set_xlabel('epoch')\n",
    "plt.show()"
   ]
  },
  {
   "cell_type": "markdown",
   "metadata": {},
   "source": [
    "## Testing on new data\n",
    "\n",
    "Now that the model has been trained, it's time to test it on a new dataset. To do this, we can load a new set of video and EEG files from a different session, the same way as before"
   ]
  },
  {
   "cell_type": "code",
   "execution_count": 19,
   "metadata": {},
   "outputs": [
    {
     "name": "stdout",
     "output_type": "stream",
     "text": [
      "Video Start Time: 1587072080.0\n",
      "Video End Time:   1587072267.0\n",
      "Video FPS:\t  25.0\n",
      "Total Frames:\t  4675\n",
      "\n",
      "EEG Start Time:\t 1587072115.603\n",
      "EEG End Time:\t 1587072234.99\n",
      "Total Frames:\t 30564\n"
     ]
    }
   ],
   "source": [
    "# Declare filepaths for video and eeg recording files\n",
    "video_path = \"EEG data/Videos/2020-04-16 15.21.20 Tom Yeh_s Personal Meeting Room 5191522377/zoom_0.mp4\"\n",
    "\n",
    "jack_eeg_path = \"\"\n",
    "shawn_eeg_path = \"EEG data/EEG_shawn_2_min_watching_up.csv\"\n",
    "xu_eeg_path = \"EEG data/read_news_Xu.csv\"\n",
    "\n",
    "# CHOOSE PERSON TO LABEL\n",
    "eeg_path = shawn_eeg_path\n",
    "\n",
    "video, video_start_time, video_end_time, video_frames, video_time_delta = load_video(video_path)\n",
    "print()\n",
    "eeg_df, eeg_start_time, eeg_end_time, eeg_frames = load_eeg(eeg_path)"
   ]
  },
  {
   "cell_type": "markdown",
   "metadata": {},
   "source": [
    "Since the model only cares about EEG data as input, we can split the EEG file into windows of the same length used to train, and predict each frame using the model.predict() functionality"
   ]
  },
  {
   "cell_type": "code",
   "execution_count": 20,
   "metadata": {},
   "outputs": [],
   "source": [
    "eeg_evaluate = eeg_df.to_numpy()\n",
    "num_windows = int(eeg_evaluate.shape[0] / WINDOW_LENGTH)\n",
    "\n",
    "X_eval = np.zeros((num_windows,WINDOW_LENGTH,4))\n",
    "timestamps = np.zeros(num_windows)\n",
    "\n",
    "for i in range(num_windows):\n",
    "    start = i*WINDOW_LENGTH\n",
    "    finish = start + WINDOW_LENGTH\n",
    "    X_eval[i] = eeg_evaluate[start:finish,1:5]\n",
    "    timestamps[i] = eeg_evaluate[start,0]\n",
    "    \n",
    "y_eval = model.predict(X_eval)"
   ]
  },
  {
   "cell_type": "markdown",
   "metadata": {},
   "source": [
    "The following code is similar to the original labeling code, except instead of finding the EEG data associated weith each video frame, it finds the video frames associated with each EEG window that has been labeled by the model. If the model predicts a face touch, it writes the event over the corresponding video frames, then saves a new video labeled with the predicted face touches"
   ]
  },
  {
   "cell_type": "code",
   "execution_count": 21,
   "metadata": {},
   "outputs": [],
   "source": [
    "current_video_time = video_start_time\n",
    "current_eeg_time = eeg_start_time\n",
    "\n",
    "current_video_frame = 0\n",
    "current_eeg_frame = 0\n",
    "current_eeg_window = 0\n",
    "\n",
    "label = False\n",
    "event_count = 0\n",
    "event_frames = []\n",
    "\n",
    "width  = video.get(cv2.CAP_PROP_FRAME_WIDTH)  # float\n",
    "height = video.get(cv2.CAP_PROP_FRAME_HEIGHT) # float\n",
    "size = (int(width),int(height))\n",
    "out = cv2.VideoWriter('prediction.mp4',cv2.VideoWriter_fourcc(*'MP4V'), 25, size)\n",
    "\n",
    "# Loop through frames of video recording\n",
    "while video.isOpened():\n",
    "    \n",
    "    # Grab video frame\n",
    "    ret,frame = video.read()\n",
    "\n",
    "    # If the UNIX timestamp of the current video frame is within the EEG recording's timespan\n",
    "    if current_video_time >= eeg_start_time:\n",
    "        \n",
    "        current_label = y_eval[current_eeg_window]\n",
    "        \n",
    "        if current_label >= 0.5:\n",
    "            cv2.putText(frame, 'FACE TOUCH - %.2f%% CONFIDENCE'%(current_label*100), (50,50), cv2.FONT_HERSHEY_SIMPLEX , 2, (0,0,255), 2, cv2.LINE_AA)\n",
    "        #cv2.imshow('window',frame)\n",
    "        out.write(frame)\n",
    "\n",
    "    current_video_time += video_time_delta\n",
    "    current_video_frame += 1\n",
    "    \n",
    "    cv2.waitKey(1)\n",
    "    \n",
    "    if current_video_time > timestamps[current_eeg_window + 1]:\n",
    "        current_eeg_window += 1\n",
    "    if current_eeg_window+1 >= y_eval.shape[0] or current_video_time >= eeg_end_time:\n",
    "        break\n",
    "    \n",
    "video.release()\n",
    "out.release()\n",
    "cv2.destroyAllWindows()"
   ]
  },
  {
   "cell_type": "code",
   "execution_count": 19,
   "metadata": {},
   "outputs": [
    {
     "data": {
      "text/html": [
       "<video src=\"mp4\" controls  >\n",
       "      Your browser does not support the <code>video</code> element.\n",
       "    </video>"
      ],
      "text/plain": [
       "<IPython.core.display.Video object>"
      ]
     },
     "execution_count": 19,
     "metadata": {},
     "output_type": "execute_result"
    }
   ],
   "source": [
    "from IPython.display import Video\n",
    "\n",
    "Video('prediction.mp4','mp4')"
   ]
  },
  {
   "cell_type": "markdown",
   "metadata": {},
   "source": [
    "## Analysis/Conclusions\n",
    "\n",
    "The algorithm seems to perform somewhat well some of the time, but has a lot of false positives and false negatives. The main issue, as with any deep learning project, is the lack of a sufficiently large and generalized dataset. Not much can be said about the viability of this project as a whole without many orders of magnitude more data.\n",
    "\n",
    "Secondly, while the model does sometimes accurately classify a face touch event, it does not do much in the way of *predicting* a face touch event. With the theoretical optimal performance of the model demonstrated above, face touches would be predicted with in a time frame of 0.2-0.8 seconds before the touch occurred. Much more experimentation is required to determine whether this is enough to interact with the user and prevent the event from happening.\n",
    "\n",
    "Thirdly, because my EEG recording failed, a live test with a stream of EEG data was not possible. This would further complicate the predictive capabilities of the model, as only the immediately previous 256 EEG frames can be fed into the network for prediction, and the model may only be successful if the touch itself occurs within these 256 frames"
   ]
  },
  {
   "cell_type": "code",
   "execution_count": null,
   "metadata": {},
   "outputs": [],
   "source": []
  }
 ],
 "metadata": {
  "kernelspec": {
   "display_name": "Python 3",
   "language": "python",
   "name": "python3"
  },
  "language_info": {
   "codemirror_mode": {
    "name": "ipython",
    "version": 3
   },
   "file_extension": ".py",
   "mimetype": "text/x-python",
   "name": "python",
   "nbconvert_exporter": "python",
   "pygments_lexer": "ipython3",
   "version": "3.7.4"
  }
 },
 "nbformat": 4,
 "nbformat_minor": 2
}
